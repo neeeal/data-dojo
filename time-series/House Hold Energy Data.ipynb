{
 "cells": [
  {
   "cell_type": "markdown",
   "metadata": {},
   "source": [
    "# House Hold Energy Data - Time Series"
   ]
  },
  {
   "cell_type": "markdown",
   "metadata": {},
   "source": [
    "## Data Loading and Exploration"
   ]
  },
  {
   "cell_type": "code",
   "execution_count": null,
   "metadata": {},
   "outputs": [],
   "source": [
    "import kaggle\n",
    "\n",
    "## Make sure that kaggle.json is in C:\\Users\\<username>\\.kaggle\n",
    "kaggle.api.authenticate()\n",
    "\n",
    "path = \"../datasets/vitthalmadane/energy-consumption-time-series-dataset\"\n",
    "\n",
    "kaggle.api.dataset_download_files('vitthalmadane/energy-consumption-time-series-dataset', path=path, unzip=True)"
   ]
  },
  {
   "cell_type": "code",
   "execution_count": null,
   "metadata": {},
   "outputs": [],
   "source": [
    "import pandas as pd\n",
    "\n",
    "## set path to first file\n",
    "files = os.listdir(path)\n",
    "file_one = os.path.join(path, files[0])\n",
    "\n",
    "## read csv and combine date and time columns\n",
    "data = pd.read_csv(file_one, parse_dates=[\"TxnDate\", \"TxnTime\"])\n",
    "\n",
    "## sample interpolation for getting mean of every 5 minutes\n",
    "data.set_index(\"TxnTime\").resample(\"5min\").mean().interpolate(\"linear\").head()"
   ]
  },
  {
   "cell_type": "markdown",
   "metadata": {},
   "source": [
    "## Data Cleaning"
   ]
  },
  {
   "cell_type": "code",
   "execution_count": null,
   "metadata": {},
   "outputs": [],
   "source": []
  }
 ],
 "metadata": {
  "kernelspec": {
   "display_name": "data-dojo",
   "language": "python",
   "name": "python3"
  },
  "language_info": {
   "codemirror_mode": {
    "name": "ipython",
    "version": 3
   },
   "file_extension": ".py",
   "mimetype": "text/x-python",
   "name": "python",
   "nbconvert_exporter": "python",
   "pygments_lexer": "ipython3",
   "version": "3.11.10"
  }
 },
 "nbformat": 4,
 "nbformat_minor": 2
}
